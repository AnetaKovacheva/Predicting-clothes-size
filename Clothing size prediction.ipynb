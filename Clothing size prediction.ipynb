{
 "cells": [
  {
   "cell_type": "markdown",
   "metadata": {},
   "source": [
    "# Predicting clothes size "
   ]
  },
  {
   "cell_type": "markdown",
   "metadata": {},
   "source": [
    "Choosing the right size of a t-shirt or of trousers could be challenging task, especially if one buys them online. There are myriad number of merchants offering clothes on the Internet. Most of them have size comparison tables and return policy if the product turned out to be the wrong size. However, sending it back and waiting for item with the right size could be rather boring. In general, it is believed that a person's height, weight, and age are reliable predictors for a garment's size.\n",
    "\n",
    "Kaggle has published a large [dataset](https://www.kaggle.com/tourist55/clothessizeprediction) for clothes’ size prediction. It is explored and modelled in this Notebook. It has 119734 samples (rows) and 4 features (columns): \"weights\" (kgs), \"age\", \"height\" (cm), and size. At first glance, it seems the classification task would be quite a simple task since common sense suggests that a shirt's or pants' size depends on person's body measurements. However, it turned out that this logic is wrong."
   ]
  },
  {
   "cell_type": "markdown",
   "metadata": {},
   "source": [
    "#### Imports"
   ]
  },
  {
   "cell_type": "code",
   "execution_count": 1,
   "metadata": {
    "scrolled": true
   },
   "outputs": [],
   "source": [
    "%matplotlib inline"
   ]
  },
  {
   "cell_type": "code",
   "execution_count": 2,
   "metadata": {
    "scrolled": true
   },
   "outputs": [],
   "source": [
    "import numpy as np\n",
    "import pandas as pd\n",
    "import scipy.stats as st\n",
    "import matplotlib.pyplot as plt\n",
    "import seaborn as sns\n",
    "\n",
    "import tensorflow as tf"
   ]
  },
  {
   "cell_type": "code",
   "execution_count": 3,
   "metadata": {
    "scrolled": true
   },
   "outputs": [],
   "source": [
    "from sklearn.model_selection import train_test_split\n",
    "from sklearn.preprocessing import MinMaxScaler\n",
    "# from sklearn.preprocessing import PolynomialFeatures\n",
    "from sklearn.pipeline import Pipeline\n",
    "from sklearn.model_selection import GridSearchCV\n",
    "from sklearn.tree import DecisionTreeClassifier\n",
    "from sklearn.ensemble import RandomForestClassifier\n",
    "from sklearn.metrics import make_scorer, f1_score, accuracy_score, classification_report, confusion_matrix"
   ]
  },
  {
   "cell_type": "code",
   "execution_count": 4,
   "metadata": {
    "scrolled": true
   },
   "outputs": [],
   "source": [
    "from tensorflow.keras.models import Sequential\n",
    "from tensorflow.keras.layers import Input, Dense"
   ]
  },
  {
   "cell_type": "code",
   "execution_count": 5,
   "metadata": {
    "scrolled": true
   },
   "outputs": [],
   "source": [
    "plt.style.use(\"ggplot\")"
   ]
  },
  {
   "cell_type": "markdown",
   "metadata": {},
   "source": [
    "## I. Load data"
   ]
  },
  {
   "cell_type": "markdown",
   "metadata": {},
   "source": [
    "Raw data are loaded and stored in `measures_data`. The dataset has 119734 rows and 4 columns. The head rows are displayed below."
   ]
  },
  {
   "cell_type": "code",
   "execution_count": 6,
   "metadata": {
    "scrolled": true
   },
   "outputs": [],
   "source": [
    "measures_data = pd.read_csv(\"data/final_test.csv\")"
   ]
  },
  {
   "cell_type": "code",
   "execution_count": 7,
   "metadata": {
    "scrolled": true
   },
   "outputs": [
    {
     "data": {
      "text/plain": [
       "(119734, 4)"
      ]
     },
     "execution_count": 7,
     "metadata": {},
     "output_type": "execute_result"
    }
   ],
   "source": [
    "measures_data.shape"
   ]
  },
  {
   "cell_type": "code",
   "execution_count": 8,
   "metadata": {
    "scrolled": true
   },
   "outputs": [
    {
     "data": {
      "text/html": [
       "<div>\n",
       "<style scoped>\n",
       "    .dataframe tbody tr th:only-of-type {\n",
       "        vertical-align: middle;\n",
       "    }\n",
       "\n",
       "    .dataframe tbody tr th {\n",
       "        vertical-align: top;\n",
       "    }\n",
       "\n",
       "    .dataframe thead th {\n",
       "        text-align: right;\n",
       "    }\n",
       "</style>\n",
       "<table border=\"1\" class=\"dataframe\">\n",
       "  <thead>\n",
       "    <tr style=\"text-align: right;\">\n",
       "      <th></th>\n",
       "      <th>weight</th>\n",
       "      <th>age</th>\n",
       "      <th>height</th>\n",
       "      <th>size</th>\n",
       "    </tr>\n",
       "  </thead>\n",
       "  <tbody>\n",
       "    <tr>\n",
       "      <th>0</th>\n",
       "      <td>62</td>\n",
       "      <td>28.0</td>\n",
       "      <td>172.72</td>\n",
       "      <td>XL</td>\n",
       "    </tr>\n",
       "    <tr>\n",
       "      <th>1</th>\n",
       "      <td>59</td>\n",
       "      <td>36.0</td>\n",
       "      <td>167.64</td>\n",
       "      <td>L</td>\n",
       "    </tr>\n",
       "    <tr>\n",
       "      <th>2</th>\n",
       "      <td>61</td>\n",
       "      <td>34.0</td>\n",
       "      <td>165.10</td>\n",
       "      <td>M</td>\n",
       "    </tr>\n",
       "    <tr>\n",
       "      <th>3</th>\n",
       "      <td>65</td>\n",
       "      <td>27.0</td>\n",
       "      <td>175.26</td>\n",
       "      <td>L</td>\n",
       "    </tr>\n",
       "    <tr>\n",
       "      <th>4</th>\n",
       "      <td>62</td>\n",
       "      <td>45.0</td>\n",
       "      <td>172.72</td>\n",
       "      <td>M</td>\n",
       "    </tr>\n",
       "  </tbody>\n",
       "</table>\n",
       "</div>"
      ],
      "text/plain": [
       "   weight   age  height size\n",
       "0      62  28.0  172.72   XL\n",
       "1      59  36.0  167.64    L\n",
       "2      61  34.0  165.10    M\n",
       "3      65  27.0  175.26    L\n",
       "4      62  45.0  172.72    M"
      ]
     },
     "execution_count": 8,
     "metadata": {},
     "output_type": "execute_result"
    }
   ],
   "source": [
    "measures_data.head()"
   ]
  },
  {
   "cell_type": "markdown",
   "metadata": {},
   "source": [
    "## II. Exploratory Data Analysis"
   ]
  },
  {
   "cell_type": "markdown",
   "metadata": {},
   "source": [
    "A brief overview shows that there are missing values in the DataFrame. The first three columns contain numeric values, and the last one - strings."
   ]
  },
  {
   "cell_type": "code",
   "execution_count": 9,
   "metadata": {},
   "outputs": [
    {
     "name": "stdout",
     "output_type": "stream",
     "text": [
      "<class 'pandas.core.frame.DataFrame'>\n",
      "RangeIndex: 119734 entries, 0 to 119733\n",
      "Data columns (total 4 columns):\n",
      " #   Column  Non-Null Count   Dtype  \n",
      "---  ------  --------------   -----  \n",
      " 0   weight  119734 non-null  int64  \n",
      " 1   age     119477 non-null  float64\n",
      " 2   height  119404 non-null  float64\n",
      " 3   size    119734 non-null  object \n",
      "dtypes: float64(2), int64(1), object(1)\n",
      "memory usage: 3.7+ MB\n"
     ]
    }
   ],
   "source": [
    "measures_data.info()"
   ]
  },
  {
   "cell_type": "markdown",
   "metadata": {},
   "source": [
    "### II.1. Explore distributions"
   ]
  },
  {
   "cell_type": "markdown",
   "metadata": {},
   "source": [
    "The function below plots the distribution of values with their mean and median in all numeric features."
   ]
  },
  {
   "cell_type": "code",
   "execution_count": 10,
   "metadata": {
    "scrolled": true
   },
   "outputs": [],
   "source": [
    "def plot_histogram(dataset, feature):\n",
    "    \"\"\"\n",
    "    Function: Plots columns with numeric values.\n",
    "    \n",
    "    Parameters: dataset and a target column.\n",
    "    \"\"\"\n",
    "    plt.hist(dataset[feature], bins = 20, color = \"teal\")\n",
    "    plt.axvline(dataset[feature].mean(), color = \"red\", label = \"mean\")\n",
    "    plt.axvline(dataset[feature].median(), color = \"orange\", label = \"median\")\n",
    "    \n",
    "    plt.xlabel(f\"{feature}\")\n",
    "    plt.ylabel(\"Count\")\n",
    "    plt.title(f\"Distribution of {feature} in the dataset\")\n",
    "    plt.legend()\n",
    "    plt.show()"
   ]
  },
  {
   "cell_type": "markdown",
   "metadata": {},
   "source": [
    "\"Weight\" values are not distributed normally. It could be seen that most people in the dataset weigh between 40 and 90 kgs. However, both the mean and the median are not around 65 kg but close to 60 kg (see few lines below). "
   ]
  },
  {
   "cell_type": "code",
   "execution_count": 11,
   "metadata": {
    "scrolled": true
   },
   "outputs": [
    {
     "data": {
      "image/png": "[encoded data removed]",
      "text/plain": [
       "<Figure size 432x288 with 1 Axes>"
      ]
     },
     "metadata": {},
     "output_type": "display_data"
    }
   ],
   "source": [
    "plot_histogram(measures_data, \"weight\")"
   ]
  },
  {
   "cell_type": "markdown",
   "metadata": {},
   "source": [
    "Data have been taken from people of various age ranging from 10 to around 70 years. Age distribution is also skewed; the median value is to the left of the mean, which suggests that younger people prevail."
   ]
  },
  {
   "cell_type": "code",
   "execution_count": 12,
   "metadata": {
    "scrolled": true
   },
   "outputs": [
    {
     "data": {
      "image/png": "[encoded data removed]",
      "text/plain": [
       "<Figure size 432x288 with 1 Axes>"
      ]
     },
     "metadata": {},
     "output_type": "display_data"
    }
   ],
   "source": [
    "plot_histogram(measures_data, \"age\")"
   ]
  },
  {
   "cell_type": "markdown",
   "metadata": {},
   "source": [
    "\"Height\" values look almost normally distributed. The average person is 1.65 m tall. Half of people are shorter, and the other half - taller. "
   ]
  },
  {
   "cell_type": "code",
   "execution_count": 13,
   "metadata": {
    "scrolled": true
   },
   "outputs": [
    {
     "data": {
      "image/png": "[encoded data removed]",
      "text/plain": [
       "<Figure size 432x288 with 1 Axes>"
      ]
     },
     "metadata": {},
     "output_type": "display_data"
    }
   ],
   "source": [
    "plot_histogram(measures_data, \"height\")"
   ]
  },
  {
   "cell_type": "markdown",
   "metadata": {},
   "source": [
    "Means of the three variables are computed below."
   ]
  },
  {
   "cell_type": "code",
   "execution_count": 14,
   "metadata": {
    "scrolled": true
   },
   "outputs": [
    {
     "data": {
      "text/plain": [
       "(61.75681093089682, 34.027310695782454, 165.80579427826837)"
      ]
     },
     "execution_count": 14,
     "metadata": {},
     "output_type": "execute_result"
    }
   ],
   "source": [
    "measures_data[\"weight\"].mean(), measures_data[\"age\"].mean(), measures_data[\"height\"].mean()"
   ]
  },
  {
   "cell_type": "markdown",
   "metadata": {},
   "source": [
    "Items per size category are shown on the figure below. `sns.countplot()` displays categories in descending order according to the number of items in each category, which is a little bit inconvenient for comprehending. For this reason, the function is asked to order them logically (i.e., to start from \"XXS\" and to end with \"XXXL\")."
   ]
  },
  {
   "cell_type": "code",
   "execution_count": 15,
   "metadata": {
    "scrolled": true
   },
   "outputs": [],
   "source": [
    "def countplot_sizes(dataset):\n",
    "    \"\"\"\n",
    "    Function: Displays number of items in each category.\n",
    "    \n",
    "    Parameters: The dataset.\n",
    "    \"\"\"\n",
    "    sns.countplot(x = dataset[\"size\"],\n",
    "                 order=[\"XXS\",\"S\",\"M\",\"L\",\"XL\",\"XXL\",\"XXXL\"],\n",
    "                 palette = \"crest\", data = dataset)\n",
    "    plt.title(\"Number of items per category\")\n",
    "    plt.show()"
   ]
  },
  {
   "cell_type": "markdown",
   "metadata": {},
   "source": [
    "Most people in the dataset wear clothes of size \"M\". The other common measurements are \"S\", \"L\", \"XL\", and \"XXXL\". Only a tiny number of people declared they choose \"XXL\" garments."
   ]
  },
  {
   "cell_type": "code",
   "execution_count": 16,
   "metadata": {
    "scrolled": true
   },
   "outputs": [
    {
     "data": {
      "image/png": "[encoded data removed]",
      "text/plain": [
       "<Figure size 432x288 with 1 Axes>"
      ]
     },
     "metadata": {},
     "output_type": "display_data"
    }
   ],
   "source": [
    "countplot_sizes(measures_data)"
   ]
  },
  {
   "cell_type": "code",
   "execution_count": 17,
   "metadata": {
    "scrolled": true
   },
   "outputs": [
    {
     "data": {
      "text/plain": [
       "M       29712\n",
       "S       21924\n",
       "XXXL    21359\n",
       "XL      19119\n",
       "L       17587\n",
       "XXS      9964\n",
       "XXL        69\n",
       "Name: size, dtype: int64"
      ]
     },
     "execution_count": 17,
     "metadata": {},
     "output_type": "execute_result"
    }
   ],
   "source": [
    "measures_data[\"size\"].value_counts()"
   ]
  },
  {
   "cell_type": "markdown",
   "metadata": {},
   "source": [
    "### II.2. Explore correlation"
   ]
  },
  {
   "cell_type": "markdown",
   "metadata": {},
   "source": [
    "Correlation shows if and how strong variables are related. The scatter plots below display each pair variables and the direction of their relationship. Plotting 120 000 dots wouldn't be very informative. For this reason, a random sample of 1000 entries is taken out of the dataset and used for exploring correlation."
   ]
  },
  {
   "cell_type": "code",
   "execution_count": 18,
   "metadata": {},
   "outputs": [],
   "source": [
    "sample_measures = measures_data.sample(1000)"
   ]
  },
  {
   "cell_type": "code",
   "execution_count": 19,
   "metadata": {},
   "outputs": [],
   "source": [
    "def plot_correlation(variable_one, variable_two):\n",
    "    \"\"\"\n",
    "    Function: Computes and plots correlation between two variables and shows regression line.\n",
    "    \n",
    "    Parameters: Two variables.\n",
    "    \"\"\"\n",
    "    sns.regplot(x = variable_one, y = variable_two, data = sample_measures,\n",
    "               scatter_kws = {\"color\": \"teal\"}, line_kws = {\"color\": \"orange\"})\n",
    "    plt.title(f\"Correlation between {variable_one} and {variable_two}\")\n",
    "    plt.show()"
   ]
  },
  {
   "cell_type": "markdown",
   "metadata": {},
   "source": [
    "There is a positive relationship between \"height\" and \"weight\". It seems the taller the person, the heavier he or she is. Dots on the far right show that tall people weigh more than 60 kgs but those around 1.50 m barely reach 55 kgs."
   ]
  },
  {
   "cell_type": "code",
   "execution_count": 20,
   "metadata": {},
   "outputs": [
    {
     "data": {
      "image/png": "[encoded data removed]",
      "text/plain": [
       "<Figure size 432x288 with 1 Axes>"
      ]
     },
     "metadata": {},
     "output_type": "display_data"
    }
   ],
   "source": [
    "plot_correlation(\"height\", \"weight\")"
   ]
  },
  {
   "cell_type": "markdown",
   "metadata": {},
   "source": [
    "Correlation between \"age\" and \"weight\" is positive but not so strong. There are people aged both 25 and 50 who weight more than 80 kgs. For this reason, the line slope is not so steep."
   ]
  },
  {
   "cell_type": "code",
   "execution_count": 21,
   "metadata": {},
   "outputs": [
    {
     "data": {
      "image/png": "[encoded data removed]",
      "text/plain": [
       "<Figure size 432x288 with 1 Axes>"
      ]
     },
     "metadata": {},
     "output_type": "display_data"
    }
   ],
   "source": [
    "plot_correlation(\"age\", \"weight\")"
   ]
  },
  {
   "cell_type": "markdown",
   "metadata": {},
   "source": [
    "Similarly, \"age\" and \"height\" are not so linked as well. Tall and shorter people could be of any age. Thus, the last two plots suggest that \"age\" might not be a good predictor for clothes' size."
   ]
  },
  {
   "cell_type": "code",
   "execution_count": 22,
   "metadata": {},
   "outputs": [
    {
     "data": {
      "image/png": "[encoded data removed]",
      "text/plain": [
       "<Figure size 432x288 with 1 Axes>"
      ]
     },
     "metadata": {},
     "output_type": "display_data"
    }
   ],
   "source": [
    "plot_correlation(\"age\", \"height\")"
   ]
  },
  {
   "cell_type": "markdown",
   "metadata": {},
   "source": [
    "These observations are confirmed by the matrix below showing the correlation coefficient between each pair of variables. It is computed with all samples found in the dataset. Stronger link between \"weight\" and \"height\" is visible in the top-right and bottom-left corners (0.39); lacking correlation between \"age\" and \"weight\" and \"height\" is confirmed by 0.068 and -0.003 coefficients, respectively. Therefore, an attempt was made to model the data without \"age\" but the classifier didn't perform better than the one with all features."
   ]
  },
  {
   "cell_type": "code",
   "execution_count": 23,
   "metadata": {},
   "outputs": [
    {
     "data": {
      "image/png": "[encoded data removed]",
      "text/plain": [
       "<Figure size 360x288 with 2 Axes>"
      ]
     },
     "metadata": {},
     "output_type": "display_data"
    }
   ],
   "source": [
    "plt.figure(figsize = (5, 4))\n",
    "sns.heatmap(measures_data.corr(),\n",
    "           annot = True,\n",
    "           cmap = \"crest\",\n",
    "           linewidths = 2, \n",
    "           linecolor = \"white\")\n",
    "plt.title(\"Correlation matrix of measures data\")\n",
    "plt.show()"
   ]
  },
  {
   "cell_type": "markdown",
   "metadata": {},
   "source": [
    "### II.3 Check for and handle missing values"
   ]
  },
  {
   "cell_type": "markdown",
   "metadata": {},
   "source": [
    "There are missing values in the \"age\" and \"height\" columns. Their number is insignificant (around 600) and for this reason samples without values in these columns were removed. Imputing them is impossible since entering any value (e.g., random, mean or median) might distort distributions."
   ]
  },
  {
   "cell_type": "code",
   "execution_count": 24,
   "metadata": {
    "scrolled": true
   },
   "outputs": [
    {
     "data": {
      "text/html": [
       "<div>\n",
       "<style scoped>\n",
       "    .dataframe tbody tr th:only-of-type {\n",
       "        vertical-align: middle;\n",
       "    }\n",
       "\n",
       "    .dataframe tbody tr th {\n",
       "        vertical-align: top;\n",
       "    }\n",
       "\n",
       "    .dataframe thead th {\n",
       "        text-align: right;\n",
       "    }\n",
       "</style>\n",
       "<table border=\"1\" class=\"dataframe\">\n",
       "  <thead>\n",
       "    <tr style=\"text-align: right;\">\n",
       "      <th></th>\n",
       "      <th>count</th>\n",
       "      <th>mean</th>\n",
       "      <th>std</th>\n",
       "      <th>min</th>\n",
       "      <th>25%</th>\n",
       "      <th>50%</th>\n",
       "      <th>75%</th>\n",
       "      <th>max</th>\n",
       "    </tr>\n",
       "  </thead>\n",
       "  <tbody>\n",
       "    <tr>\n",
       "      <th>weight</th>\n",
       "      <td>119734.0</td>\n",
       "      <td>61.756811</td>\n",
       "      <td>9.944863</td>\n",
       "      <td>22.00</td>\n",
       "      <td>55.00</td>\n",
       "      <td>61.0</td>\n",
       "      <td>67.00</td>\n",
       "      <td>136.00</td>\n",
       "    </tr>\n",
       "    <tr>\n",
       "      <th>age</th>\n",
       "      <td>119477.0</td>\n",
       "      <td>34.027311</td>\n",
       "      <td>8.149447</td>\n",
       "      <td>0.00</td>\n",
       "      <td>29.00</td>\n",
       "      <td>32.0</td>\n",
       "      <td>37.00</td>\n",
       "      <td>117.00</td>\n",
       "    </tr>\n",
       "    <tr>\n",
       "      <th>height</th>\n",
       "      <td>119404.0</td>\n",
       "      <td>165.805794</td>\n",
       "      <td>6.737651</td>\n",
       "      <td>137.16</td>\n",
       "      <td>160.02</td>\n",
       "      <td>165.1</td>\n",
       "      <td>170.18</td>\n",
       "      <td>193.04</td>\n",
       "    </tr>\n",
       "  </tbody>\n",
       "</table>\n",
       "</div>"
      ],
      "text/plain": [
       "           count        mean       std     min     25%    50%     75%     max\n",
       "weight  119734.0   61.756811  9.944863   22.00   55.00   61.0   67.00  136.00\n",
       "age     119477.0   34.027311  8.149447    0.00   29.00   32.0   37.00  117.00\n",
       "height  119404.0  165.805794  6.737651  137.16  160.02  165.1  170.18  193.04"
      ]
     },
     "execution_count": 24,
     "metadata": {},
     "output_type": "execute_result"
    }
   ],
   "source": [
    "measures_data.describe().T"
   ]
  },
  {
   "cell_type": "code",
   "execution_count": 25,
   "metadata": {
    "scrolled": true
   },
   "outputs": [],
   "source": [
    "measures_data = measures_data.dropna(subset = [\"age\"])\n",
    "measures_data = measures_data.dropna(subset = [\"height\"])"
   ]
  },
  {
   "cell_type": "code",
   "execution_count": 26,
   "metadata": {},
   "outputs": [
    {
     "data": {
      "text/plain": [
       "weight    False\n",
       "age       False\n",
       "height    False\n",
       "size      False\n",
       "dtype: bool"
      ]
     },
     "execution_count": 26,
     "metadata": {},
     "output_type": "execute_result"
    }
   ],
   "source": [
    "measures_data.isna().any()"
   ]
  },
  {
   "cell_type": "code",
   "execution_count": 27,
   "metadata": {},
   "outputs": [
    {
     "data": {
      "text/plain": [
       "(119153, 4)"
      ]
     },
     "execution_count": 27,
     "metadata": {},
     "output_type": "execute_result"
    }
   ],
   "source": [
    "measures_data.shape"
   ]
  },
  {
   "cell_type": "markdown",
   "metadata": {},
   "source": [
    "### II.4 Explore outliers"
   ]
  },
  {
   "cell_type": "markdown",
   "metadata": {},
   "source": [
    "Outliers are samples with extreme values in either dimension (feature). `describe()` method applied over the dataset above suggests some outliers. For example, a person of 0 years of age (e.g., a baby) hardly could weight more than 10 kgs or be more than 0.60 - 0.70 m (well below the minimum values in the other columns). Also, there are many centenarians in the world but not many of them reach 117 years of age. For this reason, samples where age is less than 5 and more than 100, were removed. Weight of 22 kgs is too little for an adult but not uncommon for a child; also, obese people might weigh well above 110 - 120 kgs. For this reason, extreme values in \"weight\" column remain in the table as they are. Similarly, it is quite possible a child to be 1.37 m tall and solid people to reach 2.00 m high. Outliers in all three features are shown on the boxplots below."
   ]
  },
  {
   "cell_type": "code",
   "execution_count": 28,
   "metadata": {
    "scrolled": true
   },
   "outputs": [],
   "source": [
    "measures_numerical = measures_data[[\"weight\", \"age\", \"height\"]]"
   ]
  },
  {
   "cell_type": "code",
   "execution_count": 29,
   "metadata": {
    "scrolled": true
   },
   "outputs": [
    {
     "data": {
      "image/png": "[encoded data removed]",
      "text/plain": [
       "<Figure size 504x216 with 3 Axes>"
      ]
     },
     "metadata": {},
     "output_type": "display_data"
    }
   ],
   "source": [
    "fig, axs = plt.subplots(ncols = 3, nrows = 1, figsize = (7, 3))\n",
    "idx = 0\n",
    "axs = axs.flatten()\n",
    "for k, v in measures_numerical.items():\n",
    "    sns.boxplot(y = k, data = measures_numerical, color = \"teal\", ax = axs[idx])\n",
    "    idx += 1\n",
    "plt.tight_layout(pad = 0.4, w_pad = 0.5, h_pad = 5.0)"
   ]
  },
  {
   "cell_type": "markdown",
   "metadata": {},
   "source": [
    "The code lines below compute the outliers share. "
   ]
  },
  {
   "cell_type": "code",
   "execution_count": 96,
   "metadata": {
    "scrolled": true
   },
   "outputs": [
    {
     "name": "stdout",
     "output_type": "stream",
     "text": [
      "Outliers outside the upper bound in 'weight' column are 3.75%\n",
      "Outliers outside the lower bound in 'weight' column are 0.01%\n"
     ]
    }
   ],
   "source": [
    "print(\"Outliers outside the upper bound in 'weight' column are {:.2f}%\".format((len(measures_data[measures_data['weight'] >= 82]) / len(measures_data))*100))\n",
    "print(\"Outliers outside the lower bound in 'weight' column are {:.2f}%\".format((len(measures_data[measures_data['weight'] < 40]) / len(measures_data))*100))"
   ]
  },
  {
   "cell_type": "code",
   "execution_count": 32,
   "metadata": {
    "scrolled": true
   },
   "outputs": [
    {
     "name": "stdout",
     "output_type": "stream",
     "text": [
      "Outliers outside the upper bound in 'age' column are 5.56%\n",
      "Outliers outside the lower bound in 'age' column are 0.37%\n"
     ]
    }
   ],
   "source": [
    "print(\"Outliers outside the upper bound in 'age' column are {:.2f}%\".format((len(measures_data[measures_data[\"age\"] >= 50]) / len(measures_data))*100))\n",
    "print(\"Outliers outside the lower bound in 'age' column are {:.2f}%\".format((len(measures_data[measures_data[\"age\"] < 19]) / len(measures_data))*100))"
   ]
  },
  {
   "cell_type": "code",
   "execution_count": 33,
   "metadata": {
    "scrolled": true
   },
   "outputs": [
    {
     "name": "stdout",
     "output_type": "stream",
     "text": [
      "Outliers outside the upper bound in 'height' column are 0.28%\n",
      "Outliers outside the lower bound in 'height' column are 0.17%\n"
     ]
    }
   ],
   "source": [
    "print(\"Outliers outside the upper bound in 'height' column are {:.2f}%\".format((len(measures_data[measures_data[\"height\"] >= 185]) / len(measures_data))*100))\n",
    "print(\"Outliers outside the lower bound in 'height' column are {:.2f}%\".format((len(measures_data[measures_data[\"height\"] < 148]) / len(measures_data))*100))"
   ]
  },
  {
   "cell_type": "markdown",
   "metadata": {
    "scrolled": true
   },
   "source": [
    "Outliers’ share is not high in any feature. Furthermore, it should be stressed here that these extreme values are not in fact real outliers since it is quite possible a person to weigh 90 kgs or to be 65 years of age. For this reason, only values less than or equal to 5 (48 entries) and greater than 100 (34 entries) in \"age\" are removed. Also, it is interesting to note that there are obvious errors in the data (see the output below). It is impossible a 2 years of age person to weigh 81 kg and to be 1.77 tall (index # 9103)."
   ]
  },
  {
   "cell_type": "code",
   "execution_count": 34,
   "metadata": {},
   "outputs": [
    {
     "data": {
      "text/html": [
       "<div>\n",
       "<style scoped>\n",
       "    .dataframe tbody tr th:only-of-type {\n",
       "        vertical-align: middle;\n",
       "    }\n",
       "\n",
       "    .dataframe tbody tr th {\n",
       "        vertical-align: top;\n",
       "    }\n",
       "\n",
       "    .dataframe thead th {\n",
       "        text-align: right;\n",
       "    }\n",
       "</style>\n",
       "<table border=\"1\" class=\"dataframe\">\n",
       "  <thead>\n",
       "    <tr style=\"text-align: right;\">\n",
       "      <th></th>\n",
       "      <th>weight</th>\n",
       "      <th>age</th>\n",
       "      <th>height</th>\n",
       "      <th>size</th>\n",
       "    </tr>\n",
       "  </thead>\n",
       "  <tbody>\n",
       "    <tr>\n",
       "      <th>1261</th>\n",
       "      <td>56</td>\n",
       "      <td>0.0</td>\n",
       "      <td>170.18</td>\n",
       "      <td>S</td>\n",
       "    </tr>\n",
       "    <tr>\n",
       "      <th>5553</th>\n",
       "      <td>65</td>\n",
       "      <td>3.0</td>\n",
       "      <td>175.26</td>\n",
       "      <td>L</td>\n",
       "    </tr>\n",
       "    <tr>\n",
       "      <th>7142</th>\n",
       "      <td>56</td>\n",
       "      <td>0.0</td>\n",
       "      <td>170.18</td>\n",
       "      <td>S</td>\n",
       "    </tr>\n",
       "    <tr>\n",
       "      <th>9103</th>\n",
       "      <td>81</td>\n",
       "      <td>2.0</td>\n",
       "      <td>177.80</td>\n",
       "      <td>XXXL</td>\n",
       "    </tr>\n",
       "    <tr>\n",
       "      <th>9146</th>\n",
       "      <td>56</td>\n",
       "      <td>0.0</td>\n",
       "      <td>165.10</td>\n",
       "      <td>M</td>\n",
       "    </tr>\n",
       "    <tr>\n",
       "      <th>9324</th>\n",
       "      <td>58</td>\n",
       "      <td>0.0</td>\n",
       "      <td>172.72</td>\n",
       "      <td>XL</td>\n",
       "    </tr>\n",
       "    <tr>\n",
       "      <th>12926</th>\n",
       "      <td>81</td>\n",
       "      <td>2.0</td>\n",
       "      <td>177.80</td>\n",
       "      <td>XXXL</td>\n",
       "    </tr>\n",
       "    <tr>\n",
       "      <th>22046</th>\n",
       "      <td>56</td>\n",
       "      <td>0.0</td>\n",
       "      <td>170.18</td>\n",
       "      <td>S</td>\n",
       "    </tr>\n",
       "    <tr>\n",
       "      <th>23593</th>\n",
       "      <td>77</td>\n",
       "      <td>0.0</td>\n",
       "      <td>177.80</td>\n",
       "      <td>XXXL</td>\n",
       "    </tr>\n",
       "    <tr>\n",
       "      <th>24858</th>\n",
       "      <td>49</td>\n",
       "      <td>4.0</td>\n",
       "      <td>165.10</td>\n",
       "      <td>S</td>\n",
       "    </tr>\n",
       "    <tr>\n",
       "      <th>26640</th>\n",
       "      <td>55</td>\n",
       "      <td>3.0</td>\n",
       "      <td>165.10</td>\n",
       "      <td>S</td>\n",
       "    </tr>\n",
       "    <tr>\n",
       "      <th>28626</th>\n",
       "      <td>58</td>\n",
       "      <td>0.0</td>\n",
       "      <td>172.72</td>\n",
       "      <td>M</td>\n",
       "    </tr>\n",
       "    <tr>\n",
       "      <th>34758</th>\n",
       "      <td>58</td>\n",
       "      <td>0.0</td>\n",
       "      <td>172.72</td>\n",
       "      <td>L</td>\n",
       "    </tr>\n",
       "    <tr>\n",
       "      <th>35313</th>\n",
       "      <td>70</td>\n",
       "      <td>0.0</td>\n",
       "      <td>160.02</td>\n",
       "      <td>XXXL</td>\n",
       "    </tr>\n",
       "    <tr>\n",
       "      <th>38874</th>\n",
       "      <td>64</td>\n",
       "      <td>1.0</td>\n",
       "      <td>162.56</td>\n",
       "      <td>L</td>\n",
       "    </tr>\n",
       "    <tr>\n",
       "      <th>40200</th>\n",
       "      <td>81</td>\n",
       "      <td>2.0</td>\n",
       "      <td>177.80</td>\n",
       "      <td>XXXL</td>\n",
       "    </tr>\n",
       "    <tr>\n",
       "      <th>40653</th>\n",
       "      <td>53</td>\n",
       "      <td>0.0</td>\n",
       "      <td>157.48</td>\n",
       "      <td>XXS</td>\n",
       "    </tr>\n",
       "    <tr>\n",
       "      <th>40808</th>\n",
       "      <td>74</td>\n",
       "      <td>3.0</td>\n",
       "      <td>172.72</td>\n",
       "      <td>XXXL</td>\n",
       "    </tr>\n",
       "    <tr>\n",
       "      <th>43219</th>\n",
       "      <td>68</td>\n",
       "      <td>5.0</td>\n",
       "      <td>172.72</td>\n",
       "      <td>M</td>\n",
       "    </tr>\n",
       "    <tr>\n",
       "      <th>47021</th>\n",
       "      <td>68</td>\n",
       "      <td>5.0</td>\n",
       "      <td>172.72</td>\n",
       "      <td>L</td>\n",
       "    </tr>\n",
       "    <tr>\n",
       "      <th>49117</th>\n",
       "      <td>81</td>\n",
       "      <td>2.0</td>\n",
       "      <td>177.80</td>\n",
       "      <td>XXXL</td>\n",
       "    </tr>\n",
       "    <tr>\n",
       "      <th>50473</th>\n",
       "      <td>58</td>\n",
       "      <td>0.0</td>\n",
       "      <td>172.72</td>\n",
       "      <td>L</td>\n",
       "    </tr>\n",
       "    <tr>\n",
       "      <th>51146</th>\n",
       "      <td>49</td>\n",
       "      <td>4.0</td>\n",
       "      <td>165.10</td>\n",
       "      <td>S</td>\n",
       "    </tr>\n",
       "    <tr>\n",
       "      <th>52745</th>\n",
       "      <td>68</td>\n",
       "      <td>2.0</td>\n",
       "      <td>162.56</td>\n",
       "      <td>XL</td>\n",
       "    </tr>\n",
       "    <tr>\n",
       "      <th>53391</th>\n",
       "      <td>49</td>\n",
       "      <td>0.0</td>\n",
       "      <td>157.48</td>\n",
       "      <td>S</td>\n",
       "    </tr>\n",
       "    <tr>\n",
       "      <th>55049</th>\n",
       "      <td>55</td>\n",
       "      <td>3.0</td>\n",
       "      <td>165.10</td>\n",
       "      <td>S</td>\n",
       "    </tr>\n",
       "    <tr>\n",
       "      <th>66517</th>\n",
       "      <td>81</td>\n",
       "      <td>2.0</td>\n",
       "      <td>177.80</td>\n",
       "      <td>XXXL</td>\n",
       "    </tr>\n",
       "    <tr>\n",
       "      <th>67884</th>\n",
       "      <td>49</td>\n",
       "      <td>4.0</td>\n",
       "      <td>165.10</td>\n",
       "      <td>M</td>\n",
       "    </tr>\n",
       "    <tr>\n",
       "      <th>68462</th>\n",
       "      <td>49</td>\n",
       "      <td>4.0</td>\n",
       "      <td>165.10</td>\n",
       "      <td>S</td>\n",
       "    </tr>\n",
       "    <tr>\n",
       "      <th>69634</th>\n",
       "      <td>58</td>\n",
       "      <td>0.0</td>\n",
       "      <td>160.02</td>\n",
       "      <td>XL</td>\n",
       "    </tr>\n",
       "    <tr>\n",
       "      <th>69690</th>\n",
       "      <td>49</td>\n",
       "      <td>4.0</td>\n",
       "      <td>165.10</td>\n",
       "      <td>S</td>\n",
       "    </tr>\n",
       "    <tr>\n",
       "      <th>70119</th>\n",
       "      <td>68</td>\n",
       "      <td>5.0</td>\n",
       "      <td>172.72</td>\n",
       "      <td>L</td>\n",
       "    </tr>\n",
       "    <tr>\n",
       "      <th>73085</th>\n",
       "      <td>58</td>\n",
       "      <td>0.0</td>\n",
       "      <td>172.72</td>\n",
       "      <td>M</td>\n",
       "    </tr>\n",
       "    <tr>\n",
       "      <th>77840</th>\n",
       "      <td>68</td>\n",
       "      <td>2.0</td>\n",
       "      <td>157.48</td>\n",
       "      <td>XXXL</td>\n",
       "    </tr>\n",
       "    <tr>\n",
       "      <th>78331</th>\n",
       "      <td>52</td>\n",
       "      <td>3.0</td>\n",
       "      <td>170.18</td>\n",
       "      <td>S</td>\n",
       "    </tr>\n",
       "    <tr>\n",
       "      <th>80009</th>\n",
       "      <td>49</td>\n",
       "      <td>2.0</td>\n",
       "      <td>162.56</td>\n",
       "      <td>XXS</td>\n",
       "    </tr>\n",
       "    <tr>\n",
       "      <th>82112</th>\n",
       "      <td>52</td>\n",
       "      <td>4.0</td>\n",
       "      <td>165.10</td>\n",
       "      <td>XXS</td>\n",
       "    </tr>\n",
       "    <tr>\n",
       "      <th>82148</th>\n",
       "      <td>49</td>\n",
       "      <td>4.0</td>\n",
       "      <td>165.10</td>\n",
       "      <td>S</td>\n",
       "    </tr>\n",
       "    <tr>\n",
       "      <th>83390</th>\n",
       "      <td>49</td>\n",
       "      <td>4.0</td>\n",
       "      <td>165.10</td>\n",
       "      <td>S</td>\n",
       "    </tr>\n",
       "    <tr>\n",
       "      <th>86894</th>\n",
       "      <td>81</td>\n",
       "      <td>2.0</td>\n",
       "      <td>177.80</td>\n",
       "      <td>XXXL</td>\n",
       "    </tr>\n",
       "    <tr>\n",
       "      <th>90426</th>\n",
       "      <td>65</td>\n",
       "      <td>3.0</td>\n",
       "      <td>157.48</td>\n",
       "      <td>XXXL</td>\n",
       "    </tr>\n",
       "    <tr>\n",
       "      <th>95043</th>\n",
       "      <td>58</td>\n",
       "      <td>0.0</td>\n",
       "      <td>172.72</td>\n",
       "      <td>XL</td>\n",
       "    </tr>\n",
       "    <tr>\n",
       "      <th>101791</th>\n",
       "      <td>56</td>\n",
       "      <td>0.0</td>\n",
       "      <td>170.18</td>\n",
       "      <td>XL</td>\n",
       "    </tr>\n",
       "    <tr>\n",
       "      <th>104036</th>\n",
       "      <td>53</td>\n",
       "      <td>3.0</td>\n",
       "      <td>167.64</td>\n",
       "      <td>L</td>\n",
       "    </tr>\n",
       "    <tr>\n",
       "      <th>106927</th>\n",
       "      <td>113</td>\n",
       "      <td>3.0</td>\n",
       "      <td>165.10</td>\n",
       "      <td>XXXL</td>\n",
       "    </tr>\n",
       "    <tr>\n",
       "      <th>108974</th>\n",
       "      <td>61</td>\n",
       "      <td>5.0</td>\n",
       "      <td>162.56</td>\n",
       "      <td>M</td>\n",
       "    </tr>\n",
       "    <tr>\n",
       "      <th>110064</th>\n",
       "      <td>70</td>\n",
       "      <td>0.0</td>\n",
       "      <td>167.64</td>\n",
       "      <td>XL</td>\n",
       "    </tr>\n",
       "    <tr>\n",
       "      <th>114313</th>\n",
       "      <td>54</td>\n",
       "      <td>0.0</td>\n",
       "      <td>157.48</td>\n",
       "      <td>L</td>\n",
       "    </tr>\n",
       "  </tbody>\n",
       "</table>\n",
       "</div>"
      ],
      "text/plain": [
       "        weight  age  height  size\n",
       "1261        56  0.0  170.18     S\n",
       "5553        65  3.0  175.26     L\n",
       "7142        56  0.0  170.18     S\n",
       "9103        81  2.0  177.80  XXXL\n",
       "9146        56  0.0  165.10     M\n",
       "9324        58  0.0  172.72    XL\n",
       "12926       81  2.0  177.80  XXXL\n",
       "22046       56  0.0  170.18     S\n",
       "23593       77  0.0  177.80  XXXL\n",
       "24858       49  4.0  165.10     S\n",
       "26640       55  3.0  165.10     S\n",
       "28626       58  0.0  172.72     M\n",
       "34758       58  0.0  172.72     L\n",
       "35313       70  0.0  160.02  XXXL\n",
       "38874       64  1.0  162.56     L\n",
       "40200       81  2.0  177.80  XXXL\n",
       "40653       53  0.0  157.48   XXS\n",
       "40808       74  3.0  172.72  XXXL\n",
       "43219       68  5.0  172.72     M\n",
       "47021       68  5.0  172.72     L\n",
       "49117       81  2.0  177.80  XXXL\n",
       "50473       58  0.0  172.72     L\n",
       "51146       49  4.0  165.10     S\n",
       "52745       68  2.0  162.56    XL\n",
       "53391       49  0.0  157.48     S\n",
       "55049       55  3.0  165.10     S\n",
       "66517       81  2.0  177.80  XXXL\n",
       "67884       49  4.0  165.10     M\n",
       "68462       49  4.0  165.10     S\n",
       "69634       58  0.0  160.02    XL\n",
       "69690       49  4.0  165.10     S\n",
       "70119       68  5.0  172.72     L\n",
       "73085       58  0.0  172.72     M\n",
       "77840       68  2.0  157.48  XXXL\n",
       "78331       52  3.0  170.18     S\n",
       "80009       49  2.0  162.56   XXS\n",
       "82112       52  4.0  165.10   XXS\n",
       "82148       49  4.0  165.10     S\n",
       "83390       49  4.0  165.10     S\n",
       "86894       81  2.0  177.80  XXXL\n",
       "90426       65  3.0  157.48  XXXL\n",
       "95043       58  0.0  172.72    XL\n",
       "101791      56  0.0  170.18    XL\n",
       "104036      53  3.0  167.64     L\n",
       "106927     113  3.0  165.10  XXXL\n",
       "108974      61  5.0  162.56     M\n",
       "110064      70  0.0  167.64    XL\n",
       "114313      54  0.0  157.48     L"
      ]
     },
     "execution_count": 34,
     "metadata": {},
     "output_type": "execute_result"
    }
   ],
   "source": [
    "measures_data[measures_data[\"age\"] <= 5]"
   ]
  },
  {
   "cell_type": "code",
   "execution_count": 35,
   "metadata": {
    "scrolled": true
   },
   "outputs": [],
   "source": [
    "measures_data = measures_data[(measures_data[\"age\"] <= 100) & (measures_data[\"age\"] > 5)]"
   ]
  },
  {
   "cell_type": "markdown",
   "metadata": {},
   "source": [
    "Slightly more than 119 000 entries remained in the dataset after removing outliers in \"age\"."
   ]
  },
  {
   "cell_type": "code",
   "execution_count": 36,
   "metadata": {},
   "outputs": [
    {
     "data": {
      "text/plain": [
       "(119071, 4)"
      ]
     },
     "execution_count": 36,
     "metadata": {},
     "output_type": "execute_result"
    }
   ],
   "source": [
    "measures_data.shape"
   ]
  },
  {
   "cell_type": "markdown",
   "metadata": {},
   "source": [
    "# III. Data Pre-processing"
   ]
  },
  {
   "cell_type": "markdown",
   "metadata": {},
   "source": [
    "The dataset is prepared for modelling at this stage. Machine Learning algorithms accept only numeric values; for this reason, \"size\" column which holds categorical values is encoded. Normally, this is performed with `sklearn’s` `LabelEncoder()` function. To preserve the logical order of garments' size, however, strings are replaced with integers manually."
   ]
  },
  {
   "cell_type": "markdown",
   "metadata": {},
   "source": [
    "### III.1. Label Encoding"
   ]
  },
  {
   "cell_type": "markdown",
   "metadata": {},
   "source": [
    "A brief check shows the manual encoding was successful."
   ]
  },
  {
   "cell_type": "code",
   "execution_count": 37,
   "metadata": {
    "scrolled": true
   },
   "outputs": [],
   "source": [
    "measures_data[\"size\"].replace({\"XXS\": 0, \"S\": 1, \"M\": 2, \"L\": 3, \"XL\": 4, \"XXL\": 5, \"XXXL\": 6}, inplace = True)"
   ]
  },
  {
   "cell_type": "code",
   "execution_count": 38,
   "metadata": {
    "scrolled": true
   },
   "outputs": [
    {
     "data": {
      "text/html": [
       "<div>\n",
       "<style scoped>\n",
       "    .dataframe tbody tr th:only-of-type {\n",
       "        vertical-align: middle;\n",
       "    }\n",
       "\n",
       "    .dataframe tbody tr th {\n",
       "        vertical-align: top;\n",
       "    }\n",
       "\n",
       "    .dataframe thead th {\n",
       "        text-align: right;\n",
       "    }\n",
       "</style>\n",
       "<table border=\"1\" class=\"dataframe\">\n",
       "  <thead>\n",
       "    <tr style=\"text-align: right;\">\n",
       "      <th></th>\n",
       "      <th>weight</th>\n",
       "      <th>age</th>\n",
       "      <th>height</th>\n",
       "      <th>size</th>\n",
       "    </tr>\n",
       "  </thead>\n",
       "  <tbody>\n",
       "    <tr>\n",
       "      <th>0</th>\n",
       "      <td>62</td>\n",
       "      <td>28.0</td>\n",
       "      <td>172.72</td>\n",
       "      <td>4</td>\n",
       "    </tr>\n",
       "    <tr>\n",
       "      <th>1</th>\n",
       "      <td>59</td>\n",
       "      <td>36.0</td>\n",
       "      <td>167.64</td>\n",
       "      <td>3</td>\n",
       "    </tr>\n",
       "    <tr>\n",
       "      <th>2</th>\n",
       "      <td>61</td>\n",
       "      <td>34.0</td>\n",
       "      <td>165.10</td>\n",
       "      <td>2</td>\n",
       "    </tr>\n",
       "    <tr>\n",
       "      <th>3</th>\n",
       "      <td>65</td>\n",
       "      <td>27.0</td>\n",
       "      <td>175.26</td>\n",
       "      <td>3</td>\n",
       "    </tr>\n",
       "    <tr>\n",
       "      <th>4</th>\n",
       "      <td>62</td>\n",
       "      <td>45.0</td>\n",
       "      <td>172.72</td>\n",
       "      <td>2</td>\n",
       "    </tr>\n",
       "  </tbody>\n",
       "</table>\n",
       "</div>"
      ],
      "text/plain": [
       "   weight   age  height  size\n",
       "0      62  28.0  172.72     4\n",
       "1      59  36.0  167.64     3\n",
       "2      61  34.0  165.10     2\n",
       "3      65  27.0  175.26     3\n",
       "4      62  45.0  172.72     2"
      ]
     },
     "execution_count": 38,
     "metadata": {},
     "output_type": "execute_result"
    }
   ],
   "source": [
    "measures_data.head()"
   ]
  },
  {
   "cell_type": "markdown",
   "metadata": {},
   "source": [
    "It is interesting to see distribution of all categories (clothes’ size) against each predicting variable. The function below helps for displaying it."
   ]
  },
  {
   "cell_type": "code",
   "execution_count": 41,
   "metadata": {
    "scrolled": true
   },
   "outputs": [],
   "source": [
    "def plot_cross_distribution(dataset, category, feature):\n",
    "    \"\"\"\n",
    "    Function: Displays distribution of category against a predicting variable (feature).\n",
    "    \n",
    "    Parameters: Two variables.\n",
    "    \"\"\"\n",
    "    for idx, data in dataset.groupby(category):\n",
    "        plt.hist(data[feature], alpha = 0.7, label = idx)\n",
    "    \n",
    "        plt.xlabel(f\"{feature}\")\n",
    "        plt.ylabel(\"Number of people\")\n",
    "        plt.title(f\"Distribution of cloth {category} against {feature}\")\n",
    "        plt.legend()\n",
    "    plt.show()"
   ]
  },
  {
   "cell_type": "markdown",
   "metadata": {},
   "source": [
    "The histogram below shows that \"weight\" plays a role for determining clothes' size. Heavier people are more likely to buy items of size \"XXXL\" (category \"6)\", whereas lighter ones - smaller clothes. Mean of each category is printed below. There is a distance of 25 kgs between the first and the last size category."
   ]
  },
  {
   "cell_type": "code",
   "execution_count": 42,
   "metadata": {
    "scrolled": true
   },
   "outputs": [
    {
     "data": {
      "image/png": "[encoded data removed]",
      "text/plain": [
       "<Figure size 432x288 with 1 Axes>"
      ]
     },
     "metadata": {},
     "output_type": "display_data"
    }
   ],
   "source": [
    "plot_cross_distribution(measures_data, \"size\", \"weight\")"
   ]
  },
  {
   "cell_type": "code",
   "execution_count": 46,
   "metadata": {
    "scrolled": true
   },
   "outputs": [
    {
     "data": {
      "text/plain": [
       "size\n",
       "0    50.541844\n",
       "1    54.109924\n",
       "2    58.207571\n",
       "3    62.250243\n",
       "4    65.577473\n",
       "5    66.376812\n",
       "6    75.930945\n",
       "Name: weight, dtype: float64"
      ]
     },
     "execution_count": 46,
     "metadata": {},
     "output_type": "execute_result"
    }
   ],
   "source": [
    "measures_data.groupby(\"size\")[\"weight\"].mean()"
   ]
  },
  {
   "cell_type": "markdown",
   "metadata": {},
   "source": [
    "On the other hand, people of various \"heights\" are equally likely to purchase garments of all sizes. \"Height\" mean per category are given below. The difference between the smallest and the largest size is around 6 cm, which is not so much taking into account minimum and maximum values in the whole dataset (137 and 193, respectively)."
   ]
  },
  {
   "cell_type": "code",
   "execution_count": 43,
   "metadata": {
    "scrolled": true
   },
   "outputs": [
    {
     "data": {
      "image/png": "[encoded data removed]",
      "text/plain": [
       "<Figure size 432x288 with 1 Axes>"
      ]
     },
     "metadata": {},
     "output_type": "display_data"
    }
   ],
   "source": [
    "plot_cross_distribution(measures_data, \"size\", \"height\")"
   ]
  },
  {
   "cell_type": "code",
   "execution_count": 47,
   "metadata": {
    "scrolled": true
   },
   "outputs": [
    {
     "data": {
      "text/plain": [
       "size\n",
       "0    161.320036\n",
       "1    163.764421\n",
       "2    165.494563\n",
       "3    166.946956\n",
       "4    167.672040\n",
       "5    160.388116\n",
       "6    167.837877\n",
       "Name: height, dtype: float64"
      ]
     },
     "execution_count": 47,
     "metadata": {},
     "output_type": "execute_result"
    }
   ],
   "source": [
    "measures_data.groupby(\"size\")[\"height\"].mean()"
   ]
  },
  {
   "cell_type": "markdown",
   "metadata": {},
   "source": [
    "It is once again confirmed that \"age\" does not play a role for determining clothes' size. Mean values of all categories are displayed below. The difference spans between 31.5 and 36.4 years of age, which suggests that both young and older people chose to buy both smaller and larger items."
   ]
  },
  {
   "cell_type": "code",
   "execution_count": 44,
   "metadata": {
    "scrolled": true
   },
   "outputs": [
    {
     "data": {
      "image/png": "[encoded data removed]",
      "text/plain": [
       "<Figure size 432x288 with 1 Axes>"
      ]
     },
     "metadata": {},
     "output_type": "display_data"
    }
   ],
   "source": [
    "plot_cross_distribution(measures_data, \"size\", \"age\")"
   ]
  },
  {
   "cell_type": "code",
   "execution_count": 45,
   "metadata": {
    "scrolled": true
   },
   "outputs": [
    {
     "data": {
      "text/plain": [
       "size\n",
       "0    31.545987\n",
       "1    32.600156\n",
       "2    33.437976\n",
       "3    34.228836\n",
       "4    34.954010\n",
       "5    36.304348\n",
       "6    36.435699\n",
       "Name: age, dtype: float64"
      ]
     },
     "execution_count": 45,
     "metadata": {},
     "output_type": "execute_result"
    }
   ],
   "source": [
    "measures_data.groupby(\"size\")[\"age\"].mean()"
   ]
  },
  {
   "cell_type": "markdown",
   "metadata": {},
   "source": [
    "### III. 2. Separate labels from features"
   ]
  },
  {
   "cell_type": "markdown",
   "metadata": {},
   "source": [
    "The code lines below separate features from labels. Both are stored in variables."
   ]
  },
  {
   "cell_type": "code",
   "execution_count": 51,
   "metadata": {
    "scrolled": true
   },
   "outputs": [],
   "source": [
    "features = measures_data.drop([\"size\"], axis = 1)\n",
    "labels = measures_data[\"size\"]"
   ]
  },
  {
   "cell_type": "markdown",
   "metadata": {},
   "source": [
    "### III.3. Scale features"
   ]
  },
  {
   "cell_type": "markdown",
   "metadata": {},
   "source": [
    "Features are scaled with `MinMaxScaler()`, which makes values to range between 0 and 1."
   ]
  },
  {
   "cell_type": "code",
   "execution_count": 52,
   "metadata": {
    "scrolled": true
   },
   "outputs": [],
   "source": [
    "scaler = MinMaxScaler()"
   ]
  },
  {
   "cell_type": "code",
   "execution_count": 53,
   "metadata": {
    "scrolled": true
   },
   "outputs": [],
   "source": [
    "def scale_data(features):\n",
    "    \"\"\"\n",
    "    Function: Scales features within range [0,1].\n",
    "    \n",
    "    Parameters: Features.\n",
    "    \n",
    "    Returns: Scaled features\n",
    "    \"\"\"\n",
    "    return scaler.fit_transform(features)"
   ]
  },
  {
   "cell_type": "code",
   "execution_count": 54,
   "metadata": {},
   "outputs": [],
   "source": [
    "features_scaled = scale_data(features)"
   ]
  },
  {
   "cell_type": "markdown",
   "metadata": {},
   "source": [
    "A brief check confirms the scaling was successful."
   ]
  },
  {
   "cell_type": "code",
   "execution_count": 55,
   "metadata": {},
   "outputs": [
    {
     "data": {
      "text/plain": [
       "(0.0, 1.0)"
      ]
     },
     "execution_count": 55,
     "metadata": {},
     "output_type": "execute_result"
    }
   ],
   "source": [
    "features_scaled.min(), features_scaled.max()"
   ]
  },
  {
   "cell_type": "markdown",
   "metadata": {},
   "source": [
    "### III. 4. Split data into Training, Validation, and Testing sets"
   ]
  },
  {
   "cell_type": "markdown",
   "metadata": {},
   "source": [
    "Both features and labels are split into training, validation, and testing set. The former are used for training and tuning hyper-parameters, whereas the latter - for testing model's performance. 5% of data are kept aside for validation, and the same number - for testing. It is better to have more data for training; thus, the algorithm will see and learn more relationships."
   ]
  },
  {
   "cell_type": "code",
   "execution_count": 56,
   "metadata": {
    "scrolled": true
   },
   "outputs": [],
   "source": [
    "trval_features, test_features, trval_labels, test_labels = train_test_split(features_scaled, labels,\n",
    "                                                            test_size = 0.05, stratify = labels)"
   ]
  },
  {
   "cell_type": "code",
   "execution_count": 57,
   "metadata": {
    "scrolled": true
   },
   "outputs": [],
   "source": [
    "train_features, val_features, train_labels, val_labels = train_test_split(trval_features, trval_labels,\n",
    "                                                            test_size = len(test_labels), stratify = trval_labels)"
   ]
  },
  {
   "cell_type": "markdown",
   "metadata": {},
   "source": [
    "A brief check confirms the dataset was properly split. Slightly less than 6000 entries are withheld for validation and for testing; the remaining are used for training."
   ]
  },
  {
   "cell_type": "code",
   "execution_count": 58,
   "metadata": {
    "scrolled": true
   },
   "outputs": [
    {
     "data": {
      "text/plain": [
       "((107163, 3), (107163,), (5954, 3), (5954,), (5954, 3), (5954,))"
      ]
     },
     "execution_count": 58,
     "metadata": {},
     "output_type": "execute_result"
    }
   ],
   "source": [
    "train_features.shape, train_labels.shape, val_features.shape, val_labels.shape, test_features.shape, test_labels.shape"
   ]
  },
  {
   "cell_type": "markdown",
   "metadata": {},
   "source": [
    "It is important labels in all sets to have similar distribution. The function below helps for checking if this is so."
   ]
  },
  {
   "cell_type": "code",
   "execution_count": 59,
   "metadata": {
    "scrolled": true
   },
   "outputs": [],
   "source": [
    "def display_labels(labels, title = None):\n",
    "    \"\"\"\n",
    "    Function: Displays number of items in each category.\n",
    "    \n",
    "    Parameters: Labels.\n",
    "    \"\"\"\n",
    "    sns.countplot(x = labels,\n",
    "                order = [0, 1, 2, 3, 4, 5, 6],\n",
    "                palette = \"crest\", data = labels)\n",
    "    if title is not None:\n",
    "        plt.title(title)\n",
    "plt.show()"
   ]
  },
  {
   "cell_type": "markdown",
   "metadata": {},
   "source": [
    "The three plots below confirm that the share of each label in all three sets is similar. Providing more samples to the algorithm helps for improving model's performance. An attempt was made to train a `sklearn` classifier and a Neural Network with a balanced dataset (by levelling up all categories) but it was futile. Models' accuracy didn't improve."
   ]
  },
  {
   "cell_type": "code",
   "execution_count": 60,
   "metadata": {
    "scrolled": true
   },
   "outputs": [
    {
     "data": {
      "image/png": "[encoded data removed]",
      "text/plain": [
       "<Figure size 432x288 with 1 Axes>"
      ]
     },
     "metadata": {},
     "output_type": "display_data"
    }
   ],
   "source": [
    "display_labels(train_labels, \"Train labels\")"
   ]
  },
  {
   "cell_type": "code",
   "execution_count": 61,
   "metadata": {
    "scrolled": true
   },
   "outputs": [
    {
     "data": {
      "image/png": "[encoded data removed]",
      "text/plain": [
       "<Figure size 432x288 with 1 Axes>"
      ]
     },
     "metadata": {},
     "output_type": "display_data"
    }
   ],
   "source": [
    "display_labels(val_labels, \"Validation labels\")"
   ]
  },
  {
   "cell_type": "code",
   "execution_count": 62,
   "metadata": {
    "scrolled": true
   },
   "outputs": [
    {
     "data": {
      "image/png": "[encoded data removed]",
      "text/plain": [
       "<Figure size 432x288 with 1 Axes>"
      ]
     },
     "metadata": {},
     "output_type": "display_data"
    }
   ],
   "source": [
    "display_labels(test_labels, \"Test labels\")"
   ]
  },
  {
   "cell_type": "markdown",
   "metadata": {},
   "source": [
    "## IV. Predicting clothes' size with Random Forest"
   ]
  },
  {
   "cell_type": "markdown",
   "metadata": {
    "scrolled": true
   },
   "source": [
    "Various classifiers were tried and tested to solve this problem. Logistic Regression proved to be high biased and the SVM - too slow. The code lines below explore the best combination of hyper-parameters for `DecisionTreeClassifier()` and `RandomForestClassifier()`. AdaBoost was also tested but didn't show higher accuracy or f1 score."
   ]
  },
  {
   "cell_type": "code",
   "execution_count": 63,
   "metadata": {
    "scrolled": true
   },
   "outputs": [],
   "source": [
    "f1 = make_scorer(f1_score , average = \"weighted\")"
   ]
  },
  {
   "cell_type": "code",
   "execution_count": 64,
   "metadata": {
    "scrolled": true
   },
   "outputs": [],
   "source": [
    "pipe = Pipeline(steps = [(\"estimator\", DecisionTreeClassifier())])"
   ]
  },
  {
   "cell_type": "code",
   "execution_count": 65,
   "metadata": {
    "scrolled": true
   },
   "outputs": [],
   "source": [
    "params_all = [{\n",
    "            \"estimator\": [DecisionTreeClassifier()],\n",
    "            \"estimator__max_depth\": [10, 15, 20],\n",
    "            \"estimator__min_samples_leaf\": [5, 10]\n",
    "            },\n",
    "            {\n",
    "            \"estimator\": [RandomForestClassifier()],\n",
    "            \"estimator__n_estimators\": [10, 15, 20],\n",
    "            \"estimator__max_depth\": [10, 15, 20]\n",
    "            }]"
   ]
  },
  {
   "cell_type": "code",
   "execution_count": 66,
   "metadata": {
    "scrolled": true
   },
   "outputs": [],
   "source": [
    "grid_search = GridSearchCV(pipe, param_grid = params_all, scoring = f1, cv = 5)"
   ]
  },
  {
   "cell_type": "code",
   "execution_count": 67,
   "metadata": {
    "scrolled": false
   },
   "outputs": [
    {
     "data": {
      "text/plain": [
       "GridSearchCV(cv=5,\n",
       "             estimator=Pipeline(steps=[('estimator',\n",
       "                                        DecisionTreeClassifier())]),\n",
       "             param_grid=[{'estimator': [DecisionTreeClassifier()],\n",
       "                          'estimator__max_depth': [10, 15, 20],\n",
       "                          'estimator__min_samples_leaf': [5, 10]},\n",
       "                         {'estimator': [RandomForestClassifier(max_depth=15,\n",
       "                                                               n_estimators=20)],\n",
       "                          'estimator__max_depth': [10, 15, 20],\n",
       "                          'estimator__n_estimators': [10, 15, 20]}],\n",
       "             scoring=make_scorer(f1_score, average=weighted))"
      ]
     },
     "execution_count": 67,
     "metadata": {},
     "output_type": "execute_result"
    }
   ],
   "source": [
    "grid_search.fit(train_features, train_labels)"
   ]
  },
  {
   "cell_type": "markdown",
   "metadata": {},
   "source": [
    "`RandomForestClassifier()` with 20 estimators each 15 levels deep seems to return best results. "
   ]
  },
  {
   "cell_type": "code",
   "execution_count": 68,
   "metadata": {
    "scrolled": true
   },
   "outputs": [
    {
     "data": {
      "text/plain": [
       "{'estimator': RandomForestClassifier(max_depth=15, n_estimators=20),\n",
       " 'estimator__max_depth': 15,\n",
       " 'estimator__n_estimators': 20}"
      ]
     },
     "execution_count": 68,
     "metadata": {},
     "output_type": "execute_result"
    }
   ],
   "source": [
    "grid_search.best_params_"
   ]
  },
  {
   "cell_type": "code",
   "execution_count": 69,
   "metadata": {
    "scrolled": true
   },
   "outputs": [],
   "source": [
    "random_forest_model = RandomForestClassifier(n_estimators = 20, max_depth = 15)"
   ]
  },
  {
   "cell_type": "markdown",
   "metadata": {},
   "source": [
    "Training, category prediction and model evaluation are wrapped in a function for sparing time and for avoiding repeated operations. It returns \"accuracy\" and \"f1 score\" on the respective set of data."
   ]
  },
  {
   "cell_type": "code",
   "execution_count": 70,
   "metadata": {
    "scrolled": true
   },
   "outputs": [],
   "source": [
    "def classification_task(estimator, features, labels):\n",
    "    \"\"\"\n",
    "    Function: \"fit\", \"predict\" and \"score\" values of an estimator.\n",
    "    \n",
    "    Parameters: estimator, features (X) and labels (y).\n",
    "    \n",
    "    Returns: model's performance measured as accuracy and f1_score.\n",
    "    \"\"\"\n",
    "    estimator.fit(features, labels)\n",
    "    predictions = estimator.predict(features)\n",
    "    \n",
    "    print(f\"Accuracy: {accuracy_score(labels, predictions)}\")\n",
    "    print(f\"F1 score: {f1_score(labels, predictions, average = 'weighted')}\")"
   ]
  },
  {
   "cell_type": "markdown",
   "metadata": {},
   "source": [
    "Random Forest failed to reach 60% accuracy on the training data. However, its performance on validation and testing sets is much better, which could be explained with the smaller number of samples there."
   ]
  },
  {
   "cell_type": "code",
   "execution_count": 71,
   "metadata": {
    "scrolled": true
   },
   "outputs": [
    {
     "name": "stdout",
     "output_type": "stream",
     "text": [
      "Accuracy: 0.5839982083368327\n",
      "F1 score: 0.5801174313500264\n"
     ]
    }
   ],
   "source": [
    "# Train data\n",
    "classification_task(random_forest_model, train_features, train_labels)"
   ]
  },
  {
   "cell_type": "code",
   "execution_count": 72,
   "metadata": {
    "scrolled": true
   },
   "outputs": [
    {
     "name": "stdout",
     "output_type": "stream",
     "text": [
      "Accuracy: 0.7621766879408801\n",
      "F1 score: 0.7618374125127146\n"
     ]
    }
   ],
   "source": [
    "# Validation data\n",
    "classification_task(random_forest_model, val_features, val_labels)"
   ]
  },
  {
   "cell_type": "code",
   "execution_count": 74,
   "metadata": {},
   "outputs": [
    {
     "name": "stdout",
     "output_type": "stream",
     "text": [
      "Accuracy: 0.7682230433322136\n",
      "F1 score: 0.7681864183248994\n"
     ]
    }
   ],
   "source": [
    "# Testing data\n",
    "classification_task(random_forest_model, test_features, test_labels)"
   ]
  },
  {
   "cell_type": "markdown",
   "metadata": {},
   "source": [
    "`classification_report` provides much clearer picture of model's performance. It does really well on samples of category \"6\" (\"XXXL\") and much worse on entries of type \"3\" (\"L)\"."
   ]
  },
  {
   "cell_type": "code",
   "execution_count": 76,
   "metadata": {},
   "outputs": [
    {
     "name": "stdout",
     "output_type": "stream",
     "text": [
      "              precision    recall  f1-score   support\n",
      "\n",
      "           0       0.83      0.67      0.74       495\n",
      "           1       0.74      0.77      0.75      1090\n",
      "           2       0.72      0.78      0.75      1478\n",
      "           3       0.71      0.66      0.69       874\n",
      "           4       0.76      0.75      0.76       951\n",
      "           5       1.00      0.75      0.86         4\n",
      "           6       0.91      0.89      0.90      1062\n",
      "\n",
      "    accuracy                           0.77      5954\n",
      "   macro avg       0.81      0.75      0.78      5954\n",
      "weighted avg       0.77      0.77      0.77      5954\n",
      "\n"
     ]
    }
   ],
   "source": [
    "print(classification_report(test_labels, random_forest_model.predict(test_features)))"
   ]
  },
  {
   "cell_type": "markdown",
   "metadata": {},
   "source": [
    "Confusion matrix visualizes proper and wrong predictions. Rows show predicted labels (sizes) and columns - the actual ones. For example, most garments of the largest size were properly classified. However, some were predicted as \"XXXL\" but in reality they are either \"S\", \"M\", and so forth."
   ]
  },
  {
   "cell_type": "code",
   "execution_count": 77,
   "metadata": {},
   "outputs": [
    {
     "data": {
      "image/png": "[encoded data removed]",
      "text/plain": [
       "<Figure size 504x432 with 2 Axes>"
      ]
     },
     "metadata": {},
     "output_type": "display_data"
    }
   ],
   "source": [
    "plt.style.use(\"ggplot\")\n",
    "plt.figure(figsize = (7, 6))\n",
    "sns.heatmap(confusion_matrix(test_labels, random_forest_model.predict(test_features)),\n",
    "        annot = True,\n",
    "        fmt = \".0f\",\n",
    "        cmap = \"crest\",\n",
    "        linewidths = 2, \n",
    "        linecolor = \"white\",\n",
    "        xticklabels = random_forest_model.classes_,\n",
    "        yticklabels = random_forest_model.classes_)\n",
    "plt.show()"
   ]
  },
  {
   "cell_type": "markdown",
   "metadata": {},
   "source": [
    "Artificial Neural Networks are much more powerful than classical algorithms. The next Chapter explores if a Neural Network could better predict clothes’ size."
   ]
  },
  {
   "cell_type": "markdown",
   "metadata": {},
   "source": [
    "## V. Predicting cloths' size with a Neural Network"
   ]
  },
  {
   "cell_type": "code",
   "execution_count": 78,
   "metadata": {
    "scrolled": true
   },
   "outputs": [],
   "source": [
    "INPUT = train_features.shape[1]\n",
    "OUTPUT = len(set(train_labels))"
   ]
  },
  {
   "cell_type": "code",
   "execution_count": 79,
   "metadata": {
    "scrolled": true
   },
   "outputs": [],
   "source": [
    "tf.keras.backend.clear_session()"
   ]
  },
  {
   "cell_type": "markdown",
   "metadata": {},
   "source": [
    "This model is not so complex. It has slightly more than 20000 trainable parameters. Several attempts were made to predict garments' size with much more complex net (e.g., with more layers and more neurons) but they were not successful, either. All explored models returned similar results. For this reason, the performance of a much simpler one is displayed below."
   ]
  },
  {
   "cell_type": "code",
   "execution_count": 80,
   "metadata": {
    "scrolled": true
   },
   "outputs": [],
   "source": [
    "nn_model = Sequential([\n",
    "    Input(shape = INPUT),\n",
    "    Dense(32, activation = \"relu\"),\n",
    "    Dense(64, activation = \"relu\"),\n",
    "    Dense(128, activation = \"relu\"),\n",
    "    Dense(64, activation = \"relu\"),\n",
    "    Dense(32, activation = \"relu\"),\n",
    "    Dense(OUTPUT, activation = \"softmax\")\n",
    "])"
   ]
  },
  {
   "cell_type": "code",
   "execution_count": 81,
   "metadata": {
    "scrolled": true
   },
   "outputs": [
    {
     "name": "stdout",
     "output_type": "stream",
     "text": [
      "Model: \"sequential\"\n",
      "_________________________________________________________________\n",
      "Layer (type)                 Output Shape              Param #   \n",
      "=================================================================\n",
      "dense (Dense)                (None, 32)                128       \n",
      "_________________________________________________________________\n",
      "dense_1 (Dense)              (None, 64)                2112      \n",
      "_________________________________________________________________\n",
      "dense_2 (Dense)              (None, 128)               8320      \n",
      "_________________________________________________________________\n",
      "dense_3 (Dense)              (None, 64)                8256      \n",
      "_________________________________________________________________\n",
      "dense_4 (Dense)              (None, 32)                2080      \n",
      "_________________________________________________________________\n",
      "dense_5 (Dense)              (None, 7)                 231       \n",
      "=================================================================\n",
      "Total params: 21,127\n",
      "Trainable params: 21,127\n",
      "Non-trainable params: 0\n",
      "_________________________________________________________________\n"
     ]
    }
   ],
   "source": [
    "nn_model.summary()"
   ]
  },
  {
   "cell_type": "markdown",
   "metadata": {},
   "source": [
    "Learning rate was lowered for reducing loss and for improving accuracy but of no avail. "
   ]
  },
  {
   "cell_type": "code",
   "execution_count": 82,
   "metadata": {
    "scrolled": true
   },
   "outputs": [],
   "source": [
    "nn_model.compile(optimizer = tf.keras.optimizers.Adam(learning_rate = 0.0001), \n",
    "                                loss = \"sparse_categorical_crossentropy\", metrics = [\"accuracy\"])"
   ]
  },
  {
   "cell_type": "code",
   "execution_count": 83,
   "metadata": {
    "scrolled": true
   },
   "outputs": [],
   "source": [
    "history = nn_model.fit(train_features, train_labels,\n",
    "                      epochs = 50, \n",
    "                      validation_data = (val_features, val_labels), verbose = 0)"
   ]
  },
  {
   "cell_type": "code",
   "execution_count": 84,
   "metadata": {},
   "outputs": [],
   "source": [
    "def plot_graphs(history, metric):\n",
    "    plt.plot(history.history[metric])\n",
    "    plt.plot(history.history[\"val_\" + metric])\n",
    "    plt.xlabel(\"Epochs\")\n",
    "    plt.ylabel(metric)\n",
    "    plt.legend([metric, \"val_\" + metric])\n",
    "    plt.show()"
   ]
  },
  {
   "cell_type": "markdown",
   "metadata": {},
   "source": [
    "Both training and validation loss couldn't fall below 1.10. At the same time, accuracy fluctuates around 50 - 52%. Training with more epochs (e.g., 100) didn't improve model’s performance."
   ]
  },
  {
   "cell_type": "code",
   "execution_count": 85,
   "metadata": {},
   "outputs": [
    {
     "data": {
      "image/png": "[encoded data removed]",
      "text/plain": [
       "<Figure size 432x288 with 1 Axes>"
      ]
     },
     "metadata": {},
     "output_type": "display_data"
    }
   ],
   "source": [
    "plot_graphs(history, \"loss\")"
   ]
  },
  {
   "cell_type": "code",
   "execution_count": 86,
   "metadata": {},
   "outputs": [
    {
     "data": {
      "image/png": "[encoded data removed]",
      "text/plain": [
       "<Figure size 432x288 with 1 Axes>"
      ]
     },
     "metadata": {},
     "output_type": "display_data"
    }
   ],
   "source": [
    "plot_graphs(history, \"accuracy\")"
   ]
  },
  {
   "cell_type": "markdown",
   "metadata": {},
   "source": [
    "Performance on the testing data is similar and is not better than the one reached by `RandomForestClassifier()`."
   ]
  },
  {
   "cell_type": "code",
   "execution_count": 97,
   "metadata": {},
   "outputs": [
    {
     "name": "stdout",
     "output_type": "stream",
     "text": [
      "5954/5954 [==============================] - 0s 42us/sample - loss: 1.1121 - accuracy: 0.5197\n",
      "Model loss on testing set: 1.11\n",
      "5954/5954 [==============================] - 0s 41us/sample - loss: 1.1121 - accuracy: 0.5197\n",
      "Model accuracy on testing set: 0.52\n"
     ]
    }
   ],
   "source": [
    "print(\"Model loss on testing set: {:.2f}\".format(nn_model.evaluate(test_features, test_labels)[0]))\n",
    "print(\"Model accuracy on testing set: {:.2f}\".format(nn_model.evaluate(test_features, test_labels)[1]))"
   ]
  },
  {
   "cell_type": "markdown",
   "metadata": {},
   "source": [
    "## Conclusion"
   ]
  },
  {
   "cell_type": "markdown",
   "metadata": {},
   "source": [
    "This simple (at first sight) classification task turned out to be a rather complex one. Common sense suggests that a person's weight and height determine the size of his or her clothes. However, both models didn't prove this hypothesis. Various techniques were applied for improving models' performance, including (1) removing \"age\" column from the dataset, (2) balancing size categories, (3) and removing outliers in all columns. Polynomial Transformation was also tried but it didn't help either. Random Forest hardly surpassed 75% accuracy. A complex Neural Net couldn't go beyond 52% accuracy, too.\n",
    "\n",
    "The reason for these poor results is simple and was evident in the exploratory stage: there are tall but slim people who need to buy clothes of larger size; and vice versa: there are shorter but obese persons, who might also go for XXL or XXXL. And finally, the outlier detection step showed that there are errors in the dataset, which further complicated the classification task."
   ]
  }
 ],
 "metadata": {
  "kernelspec": {
   "display_name": "Python 3",
   "language": "python",
   "name": "python3"
  },
  "language_info": {
   "codemirror_mode": {
    "name": "ipython",
    "version": 3
   },
   "file_extension": ".py",
   "mimetype": "text/x-python",
   "name": "python",
   "nbconvert_exporter": "python",
   "pygments_lexer": "ipython3",
   "version": "3.7.9"
  }
 },
 "nbformat": 4,
 "nbformat_minor": 4
}
